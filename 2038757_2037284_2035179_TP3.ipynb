{
 "cells": [
  {
   "cell_type": "markdown",
   "metadata": {},
   "source": [
    "# École Polytechnique de Montréal\n",
    "\n",
    "Département Génie Informatique et Génie Logiciel\n",
    "INF8460 – Traitement automatique de la langue naturelle\n",
    "\n",
    "#### Prof. Amal Zouaq\n",
    "#### Chargé de laboratoire: Félix Martel"
   ]
  },
  {
   "cell_type": "markdown",
   "metadata": {},
   "source": [
    "# TP 3\n",
    "\n",
    "## Objectifs\n",
    "\n",
    " - Implanter des modèles de classification neuronaux\n",
    " - Utiliser des plongements lexicaux pré-entrainés\n"
   ]
  },
  {
   "cell_type": "markdown",
   "metadata": {},
   "source": [
    "## Travail à faire\n",
    "\n",
    "Comme dans le TP précédent, on va travailler sur l'analyse de sentiment en utilisant les données du [Large Movie Review Dataset](https://ai.stanford.edu/~amaas/data/sentiment/).\n",
    "\n",
    "Vous devez utiliser `scikit-learn` pour la régression logistique, et Keras pour les modèles neuronaux.\n",
    "\n",
    "Les sections 1, 2 et 3 sont indépendantes.\n",
    "\n",
    "Vous êtes libres d'appliquez les pré-traitements que vous jugerez utiles."
   ]
  },
  {
   "cell_type": "markdown",
   "metadata": {},
   "source": [
    "### 1. Pré-traitement et lecture de données"
   ]
  },
  {
   "cell_type": "code",
   "execution_count": 1,
   "metadata": {},
   "outputs": [
    {
     "name": "stdout",
     "output_type": "stream",
     "text": [
      "Requirement already satisfied: nltk in c:\\logiciels\\python-3.7.3\\lib\\site-packages (3.4.4)\n",
      "Requirement already satisfied: six in c:\\logiciels\\python-3.7.3\\lib\\site-packages (from nltk) (1.12.0)\n"
     ]
    },
    {
     "name": "stderr",
     "output_type": "stream",
     "text": [
      "WARNING: You are using pip version 19.2.1, however version 19.3.1 is available.\n",
      "You should consider upgrading via the 'python -m pip install --upgrade pip' command.\n",
      "[nltk_data] Downloading package stopwords to\n",
      "[nltk_data]     C:\\Users\\mametc\\AppData\\Roaming\\nltk_data...\n",
      "[nltk_data]   Package stopwords is already up-to-date!\n",
      "[nltk_data] Downloading package punkt to\n",
      "[nltk_data]     C:\\Users\\mametc\\AppData\\Roaming\\nltk_data...\n",
      "[nltk_data]   Package punkt is already up-to-date!\n",
      "[nltk_data] Downloading package wordnet to\n",
      "[nltk_data]     C:\\Users\\mametc\\AppData\\Roaming\\nltk_data...\n",
      "[nltk_data]   Package wordnet is already up-to-date!\n"
     ]
    }
   ],
   "source": [
    "# Ici, vous devez lire vos données et appliquez les pré-traitements que vous jugerez utiles\n",
    "\n",
    "# On fait comme dans le TP 2\n",
    "!pip install --user nltk\n",
    "\n",
    "import os\n",
    "import nltk\n",
    "nltk.download('stopwords')\n",
    "nltk.download('punkt')\n",
    "nltk.download('wordnet')\n",
    "\n",
    "seq_train_neg = os.listdir(\"aclImdb/train/neg\")\n",
    "seq_train_pos = os.listdir(\"aclImdb/train/pos\")\n",
    "\n",
    "data_train_neg = [open(\"aclImdb/train/neg/\" + file,encoding=\"utf-8\").read() for file in seq_train_neg]\n",
    "data_train_pos = [open(\"aclImdb/train/pos/\" + file,encoding=\"utf-8\").read() for file in seq_train_pos]\n",
    "data_train = data_train_pos + data_train_neg\n",
    "\n",
    "seq_test_neg = os.listdir(\"aclImdb/test/neg\")\n",
    "seq_test_pos = os.listdir(\"aclImdb/test/pos\")\n",
    "\n",
    "data_test_neg = [open(\"aclImdb/test/neg/\" + file,encoding=\"utf-8\").read() for file in seq_test_neg]\n",
    "data_test_pos = [open(\"aclImdb/test/pos/\" + file,encoding=\"utf-8\").read() for file in seq_test_pos]\n",
    "data_test = data_test_pos + data_test_neg\n",
    "\n",
    "nb_doc_train = len(data_train)\n",
    "nb_doc_test = len(data_test)"
   ]
  },
  {
   "cell_type": "code",
   "execution_count": 16,
   "metadata": {},
   "outputs": [],
   "source": [
    "import nltk\n",
    "from nltk.corpus import stopwords\n",
    "stopwords = set(stopwords.words('english'))\n",
    "import re\n",
    "\n",
    "def segmentize(raw_text):\n",
    "    \"\"\"\n",
    "    Segmente un document en phrases.\n",
    "\n",
    "    >>> raw_corpus = \"Alice est là . Bob est ici\"\n",
    "    >>> segmentize(raw_text)\n",
    "    [\"Alice est là .\", \"Bob est ici\"]\n",
    "\n",
    "    :param raw_text: str\n",
    "    :return: list(str)\n",
    "    \"\"\"\n",
    "    return nltk.sent_tokenize(raw_text)\n",
    "\n",
    "\n",
    "def tokenize(sentences):\n",
    "    \"\"\"\n",
    "    Tokenize une liste de phrases en mots.\n",
    "\n",
    "    >>> sentences = [\"Alice est là \", \"Bob est ici\"]\n",
    "    >>> corpus = tokenize(sentences)\n",
    "    >>> corpus_name\n",
    "    [\n",
    "        [\"Alice\", \"est\", \"là \"],\n",
    "        [\"Bob\", \"est\", \"ici\"]\n",
    "    ]\n",
    "\n",
    "    :param sentences: list(str), une liste de phrases\n",
    "    :return: list(list(str)), une liste de phrases tokenizées\n",
    "    \"\"\"\n",
    "    res = []\n",
    "    for sentence in sentences:\n",
    "        res.append(nltk.word_tokenize(sentence))\n",
    "    return res\n",
    "\n",
    "def remove_unvalid_tokens(tokenized_text):\n",
    "    \"\"\"\n",
    "    Remove the stopwords defined in nltk.corpus.stopwords from the given tokenized text.\n",
    "    Nous devons enlever certains stopwords à la main.\n",
    "    Remove non-alphabetic characters from the text.\n",
    "    Remove one-character words from the text.\n",
    "    \n",
    "    :param tokenized_text: list(list(str)), une liste de listes de tokens\n",
    "    :return: list(list(str)), une liste de listes de tokens, sans les tokens invalides\n",
    "    \"\"\"\n",
    "    \n",
    "    #On va rajouter le stopword 'br'\n",
    "    stopwords.update([\"br\"])\n",
    "    \n",
    "    res = list()\n",
    "    for sentence in tokenized_text:\n",
    "        sentence_mod = list()\n",
    "        for token in sentence:\n",
    "             if token.lower() not in stopwords and re.fullmatch(\"[a-zA-Z]*\",token)!=None and len(token) > 1:\n",
    "                sentence_mod.append(token.lower())\n",
    "        if sentence_mod != []:\n",
    "            res.append(sentence_mod)\n",
    "    return res\n",
    "\n",
    "def clean_doc(corpus):\n",
    "    tokens_preprocessed = []\n",
    "    for documents in corpus:\n",
    "        sentences = segmentize(documents)\n",
    "        tokens = tokenize(sentences)\n",
    "        tokens_clean = remove_unvalid_tokens(tokens)\n",
    "        s = \"\"\n",
    "        for x in tokens_clean:\n",
    "            s += \" \" + \" \".join(x) \n",
    "        tokens_preprocessed.append(s)\n",
    "    return (tokens_preprocessed)\n"
   ]
  },
  {
   "cell_type": "code",
   "execution_count": 5,
   "metadata": {},
   "outputs": [],
   "source": [
    "data_train_clean = clean_doc(data_train)"
   ]
  },
  {
   "cell_type": "markdown",
   "metadata": {},
   "source": [
    "Dans la suite, vous allez entraîner deux modèles neuronaux : un perceptron multi-couche (MLP pour *multi-layer perceptron*), un réseau récurrent LSTM bi-directionnel. Pour cela, vous devrez utiliser la librairie [Keras](https://keras.io/).\n",
    "\n",
    "N'hésitez pas à expérimenter différents hyper-paramètres pour obtenir le meilleur résultat possible sur au moins un de vos réseaux(nombre de couches, dimension des couches, etc.). Quelques pistes:\n",
    "\n",
    "- optimisation des hyper-paramètres avec validation croisée (tous modèles)\n",
    "\n",
    "- réduction de la dimension avec une LSA (MLP)\n",
    "\n",
    "- ajout de couches/augmentation de la dimension/dropout ou autres changements d'architecture (MLP ou LSTM)\n",
    "\n",
    "- pré-traitement différent (tous modèles)\n",
    "\n",
    "\n",
    "<mark>Il est **fortement conseillé** d'utiliser une machine avec GPU</mark> pour entraîner ces modèles neuronaux. Vous pouvez utiliser les machines du labo L-4818 ou faire tourner votre notebook sur [Google Colab](https://colab.research.google.com) (gratuit)."
   ]
  },
  {
   "cell_type": "markdown",
   "metadata": {},
   "source": [
    "### 2. Multi-layer Perceptron\n",
    "\n",
    "**a)** Ici, on vous demande d'entraîner un perceptron multi-couches sur la matrice TF-IDF. Avant l'entraînement, affichez la structure du modèle avec `model.summary()`. Précisez la structure du réseau de neurones (taille et nombre de couches) et les paramètres d'entraînement (optimiseur, nombre d'époques, etc.)."
   ]
  },
  {
   "cell_type": "code",
   "execution_count": 6,
   "metadata": {},
   "outputs": [
    {
     "name": "stdout",
     "output_type": "stream",
     "text": [
      "(24915, 5000)\n"
     ]
    }
   ],
   "source": [
    "from sklearn.feature_extraction.text import TfidfVectorizer\n",
    "\n",
    "vectorizer = TfidfVectorizer(max_features = 5000)\n",
    "X = vectorizer.fit_transform(data_train)\n"
   ]
  },
  {
   "cell_type": "code",
   "execution_count": 106,
   "metadata": {},
   "outputs": [],
   "source": [
    "import numpy as np\n",
    "import pandas as pd\n",
    "from matplotlib import pyplot as plt\n",
    "plt.style.use('dark_background')\n",
    "from keras.preprocessing.text import Tokenizer\n",
    "from keras.preprocessing.sequence import pad_sequences\n",
    "from sklearn.model_selection import train_test_split\n",
    "from keras.utils import to_categorical\n",
    "from keras.models import Sequential\n",
    "from keras.layers import Dense, Dropout, Embedding, LSTM, GlobalMaxPooling1D, SpatialDropout1D, Bidirectional"
   ]
  },
  {
   "cell_type": "code",
   "execution_count": 157,
   "metadata": {},
   "outputs": [
    {
     "name": "stdout",
     "output_type": "stream",
     "text": [
      "_________________________________________________________________\n",
      "Layer (type)                 Output Shape              Param #   \n",
      "=================================================================\n",
      "dense_23 (Dense)             (None, 250)               1250250   \n",
      "_________________________________________________________________\n",
      "dense_24 (Dense)             (None, 1)                 251       \n",
      "=================================================================\n",
      "Total params: 1,250,501\n",
      "Trainable params: 1,250,501\n",
      "Non-trainable params: 0\n",
      "_________________________________________________________________\n",
      "None\n"
     ]
    }
   ],
   "source": [
    "model = Sequential([\n",
    "            Dense(250, input_shape=(5000,), activation=\"relu\"),\n",
    "            Dense(1, activation=\"sigmoid\")\n",
    "            ])\n",
    "\n",
    "model.compile(\n",
    "        optimizer=\"adam\",\n",
    "        loss=\"binary_crossentropy\",\n",
    "        metrics=[\"accuracy\"]\n",
    "        )\n",
    "\n",
    "print(model.summary())"
   ]
  },
  {
   "cell_type": "code",
   "execution_count": 158,
   "metadata": {},
   "outputs": [],
   "source": [
    "y_train = [1 for i in range(len(data_train_pos))] + [0 for i in range(len(data_train_neg))]"
   ]
  },
  {
   "cell_type": "code",
   "execution_count": 159,
   "metadata": {},
   "outputs": [
    {
     "name": "stdout",
     "output_type": "stream",
     "text": [
      "Train on 22423 samples, validate on 2492 samples\n",
      "Epoch 1/20\n",
      "22423/22423 [==============================] - 5s 242us/step - loss: 0.3317 - acc: 0.8591 - val_loss: 0.3255 - val_acc: 0.8559\n",
      "Epoch 2/20\n",
      "22423/22423 [==============================] - 3s 145us/step - loss: 0.2115 - acc: 0.9179 - val_loss: 0.3641 - val_acc: 0.8475\n",
      "Epoch 3/20\n",
      "22423/22423 [==============================] - 3s 144us/step - loss: 0.1785 - acc: 0.9300 - val_loss: 0.3331 - val_acc: 0.8680\n",
      "Epoch 4/20\n",
      "22423/22423 [==============================] - 3s 146us/step - loss: 0.1493 - acc: 0.9418 - val_loss: 0.3886 - val_acc: 0.8583\n",
      "Epoch 5/20\n",
      "22423/22423 [==============================] - 3s 145us/step - loss: 0.1159 - acc: 0.9565 - val_loss: 0.4727 - val_acc: 0.8443\n",
      "Epoch 6/20\n",
      "22423/22423 [==============================] - 3s 145us/step - loss: 0.0778 - acc: 0.9733 - val_loss: 0.5275 - val_acc: 0.8475\n"
     ]
    }
   ],
   "source": [
    "from keras.callbacks import EarlyStopping\n",
    "\n",
    "es = EarlyStopping(monitor='val_acc', mode='max',patience=3)\n",
    "\n",
    "history = model.fit(X, y_train,\n",
    "                    validation_split = 0.1,\n",
    "                    epochs=20,\n",
    "                    batch_size=32,\n",
    "                    callbacks=[es])"
   ]
  },
  {
   "cell_type": "code",
   "execution_count": 160,
   "metadata": {},
   "outputs": [
    {
     "data": {
      "image/png": "[encoded data removed]",
      "text/plain": [
       "<Figure size 432x288 with 1 Axes>"
      ]
     },
     "metadata": {},
     "output_type": "display_data"
    }
   ],
   "source": [
    "plt.clf()\n",
    "loss = history.history['loss']\n",
    "val_loss = history.history['val_loss']\n",
    "epochs = range(1, len(loss) + 1)\n",
    "plt.plot(epochs, loss, 'g', label='Training loss')\n",
    "plt.plot(epochs, val_loss, 'y', label='Validation loss')\n",
    "plt.title('Training and validation loss')\n",
    "plt.xlabel('Epochs')\n",
    "plt.ylabel('Loss')\n",
    "plt.legend()\n",
    "plt.show()"
   ]
  },
  {
   "cell_type": "code",
   "execution_count": 161,
   "metadata": {},
   "outputs": [
    {
     "data": {
      "image/png": "[encoded data removed]",
      "text/plain": [
       "<Figure size 432x288 with 1 Axes>"
      ]
     },
     "metadata": {},
     "output_type": "display_data"
    }
   ],
   "source": [
    "plt.clf()\n",
    "acc = history.history['acc']\n",
    "val_acc = history.history['val_acc']\n",
    "plt.plot(epochs, acc, 'g', label='Training acc')\n",
    "plt.plot(epochs, val_acc, 'y', label='Validation acc')\n",
    "plt.title('Training and validation accuracy')\n",
    "plt.xlabel('Epochs')\n",
    "plt.ylabel('Accuracy')\n",
    "plt.legend()\n",
    "plt.show()"
   ]
  },
  {
   "cell_type": "markdown",
   "metadata": {},
   "source": [
    "### 3. Bi-directional LSTM\n",
    "\n",
    "**b)** Toujours avec Keras, entraînez un modèle bi-LSTM sur le corpus d'entraînement. Comme précédemment, affichez la structure du réseau et indiquez les paramètres utiles.\n",
    "\n",
    "*Note :* si votre machine supporte CUDA, vous pouvez utiliser `keras.layers.CuDNNLSTM` au lieu de `keras.layers.LSTM` pour des gains de performance significatifs. Sur Google Colab, les environnements avec GPU supportent CUDA."
   ]
  },
  {
   "cell_type": "code",
   "execution_count": 162,
   "metadata": {},
   "outputs": [],
   "source": [
    "def clean_doc_lstm(corpus):\n",
    "    tokens_preprocessed = []\n",
    "    for documents in corpus:\n",
    "        sentences = segmentize(documents)\n",
    "        tokens = tokenize(sentences)\n",
    "        tokens_clean = remove_unvalid_tokens(tokens)\n",
    "        s = \"\"\n",
    "        for x in tokens_clean:\n",
    "            s += \" \" + \" \".join(x) \n",
    "        tokens_preprocessed.append(s)\n",
    "    return [\"\".join(x) for x in tokens_preprocessed]"
   ]
  },
  {
   "cell_type": "code",
   "execution_count": 164,
   "metadata": {},
   "outputs": [],
   "source": [
    "X_train = clean_doc_lstm(data_train)"
   ]
  },
  {
   "cell_type": "code",
   "execution_count": 165,
   "metadata": {},
   "outputs": [
    {
     "name": "stdout",
     "output_type": "stream",
     "text": [
      "max phrase len: 1390\n"
     ]
    },
    {
     "data": {
      "image/png": "[encoded data removed]",
      "text/plain": [
       "<Figure size 720x576 with 1 Axes>"
      ]
     },
     "metadata": {},
     "output_type": "display_data"
    }
   ],
   "source": [
    "phrase_len = list(map((lambda p: len(p.split(' '))), X_train))\n",
    "max_phrase_len = max(phrase_len)\n",
    "print('max phrase len: {0}'.format(max_phrase_len))\n",
    "\n",
    "plt.figure(figsize = (10, 8))\n",
    "plt.hist(phrase_len, alpha = 0.2, density = True)\n",
    "plt.xlabel('phrase len')\n",
    "plt.ylabel('probability')\n",
    "plt.grid(alpha = 0.25)"
   ]
  },
  {
   "cell_type": "code",
   "execution_count": 166,
   "metadata": {},
   "outputs": [],
   "source": [
    "max_words = 5000\n",
    "tokenizer = Tokenizer(\n",
    "    num_words = max_words,\n",
    "    filters = '\"#$%&()*+-/:;<=>@[\\]^_`{|}~'\n",
    ")\n",
    "\n",
    "tokenizer.fit_on_texts(X_train)\n",
    "word_index = tokenizer.word_index\n",
    "\n",
    "X_train = tokenizer.texts_to_sequences(X_train)\n",
    "X_train = pad_sequences(X_train, maxlen = 400)\n",
    "y = to_categorical(y_train)"
   ]
  },
  {
   "cell_type": "code",
   "execution_count": 167,
   "metadata": {},
   "outputs": [
    {
     "name": "stdout",
     "output_type": "stream",
     "text": [
      "_________________________________________________________________\n",
      "Layer (type)                 Output Shape              Param #   \n",
      "=================================================================\n",
      "embedding_21 (Embedding)     (None, 400, 32)           160000    \n",
      "_________________________________________________________________\n",
      "bidirectional_6 (Bidirection (None, 64)                16640     \n",
      "_________________________________________________________________\n",
      "dense_25 (Dense)             (None, 2)                 130       \n",
      "=================================================================\n",
      "Total params: 176,770\n",
      "Trainable params: 176,770\n",
      "Non-trainable params: 0\n",
      "_________________________________________________________________\n",
      "None\n"
     ]
    }
   ],
   "source": [
    "# On va ici utiliser une couche embedding non initialisée afin de réaliser un \n",
    "# codage one_hot sans subir une explosion de mémoire occupée\n",
    "\n",
    "lstm_model = Sequential([\n",
    "    Embedding(5000, 32, input_length=400, trainable= True),\n",
    "    Bidirectional(LSTM(32,input_shape=(400,32),dropout = 0.3, recurrent_dropout = 0.3)), \n",
    "    Dense(2, activation=\"sigmoid\")])\n",
    "\n",
    "lstm_model.compile(\n",
    "        optimizer=\"adam\",\n",
    "        loss=\"binary_crossentropy\",\n",
    "        metrics=[\"accuracy\"]\n",
    "        )\n",
    "\n",
    "print(lstm_model.summary())"
   ]
  },
  {
   "cell_type": "code",
   "execution_count": 168,
   "metadata": {},
   "outputs": [
    {
     "name": "stdout",
     "output_type": "stream",
     "text": [
      "Train on 22423 samples, validate on 2492 samples\n",
      "Epoch 1/16\n",
      "22423/22423 [==============================] - 107s 5ms/step - loss: 0.6286 - acc: 0.6404 - val_loss: 0.5882 - val_acc: 0.7606\n",
      "Epoch 2/16\n",
      "22423/22423 [==============================] - 106s 5ms/step - loss: 0.4095 - acc: 0.8385 - val_loss: 0.4557 - val_acc: 0.8264\n",
      "Epoch 3/16\n",
      "22423/22423 [==============================] - 104s 5ms/step - loss: 0.3415 - acc: 0.8637 - val_loss: 0.3905 - val_acc: 0.8381\n",
      "Epoch 4/16\n",
      "22423/22423 [==============================] - 102s 5ms/step - loss: 0.3164 - acc: 0.8743 - val_loss: 0.5865 - val_acc: 0.7657\n",
      "Epoch 5/16\n",
      "22423/22423 [==============================] - 105s 5ms/step - loss: 0.2933 - acc: 0.8841 - val_loss: 0.4924 - val_acc: 0.8166\n",
      "Epoch 6/16\n",
      "22423/22423 [==============================] - 103s 5ms/step - loss: 0.2730 - acc: 0.8955 - val_loss: 0.4041 - val_acc: 0.8483\n",
      "Epoch 7/16\n",
      "22423/22423 [==============================] - 103s 5ms/step - loss: 0.2670 - acc: 0.8962 - val_loss: 0.4772 - val_acc: 0.8276\n",
      "Epoch 8/16\n",
      "22423/22423 [==============================] - 104s 5ms/step - loss: 0.2467 - acc: 0.9065 - val_loss: 0.4879 - val_acc: 0.8214\n",
      "Epoch 9/16\n",
      "22423/22423 [==============================] - 104s 5ms/step - loss: 0.2385 - acc: 0.9106 - val_loss: 0.4984 - val_acc: 0.8188\n"
     ]
    }
   ],
   "source": [
    "es = EarlyStopping(monitor='val_acc', mode='max',patience=3)\n",
    "\n",
    "h = lstm_model.fit(\n",
    "    X_train,\n",
    "    y,\n",
    "    validation_split = 0.1,\n",
    "    epochs = 16,\n",
    "    batch_size = 256,\n",
    "    callbacks=[es]\n",
    ")"
   ]
  },
  {
   "cell_type": "code",
   "execution_count": 172,
   "metadata": {},
   "outputs": [
    {
     "data": {
      "image/png": "[encoded data removed]",
      "text/plain": [
       "<Figure size 432x288 with 1 Axes>"
      ]
     },
     "metadata": {},
     "output_type": "display_data"
    }
   ],
   "source": [
    "plt.clf()\n",
    "loss = h.history['loss']\n",
    "val_loss = h.history['val_loss']\n",
    "epochs = range(1, len(loss) + 1)\n",
    "plt.plot(epochs, loss, 'g', label='Training loss')\n",
    "plt.plot(epochs, val_loss, 'y', label='Validation loss')\n",
    "plt.title('Training and validation loss')\n",
    "plt.xlabel('Epochs')\n",
    "plt.ylabel('Loss')\n",
    "plt.legend()\n",
    "plt.show()"
   ]
  },
  {
   "cell_type": "code",
   "execution_count": 171,
   "metadata": {},
   "outputs": [
    {
     "data": {
      "image/png": "[encoded data removed]",
      "text/plain": [
       "<Figure size 432x288 with 1 Axes>"
      ]
     },
     "metadata": {},
     "output_type": "display_data"
    }
   ],
   "source": [
    "plt.clf()\n",
    "acc = h.history['acc']\n",
    "val_acc = h.history['val_acc']\n",
    "plt.plot(epochs, acc, 'g', label='Training acc')\n",
    "plt.plot(epochs, val_acc, 'y', label='Validation acc')\n",
    "plt.title('Training and validation accuracy')\n",
    "plt.xlabel('Epochs')\n",
    "plt.ylabel('Accuracy')\n",
    "plt.legend()\n",
    "plt.show()"
   ]
  },
  {
   "cell_type": "markdown",
   "metadata": {},
   "source": [
    "**c) Word Embeddings**\n",
    "\n",
    "Pour améliorer le modèle précédent, on va utiliser des *word embeddings* (ou plongements vectoriels) pré-entraînés. \n",
    "\n",
    "On utilisera un modèle Skip-gram de dimension $d=300$ entraîné sur English Wikipedia, disponible à l'adresse [http://vectors.nlpl.eu/explore/embeddings/en/models/](http://vectors.nlpl.eu/explore/embeddings/en/models/). Dans cette archive, vous trouverez les embeddings dans un fichier `.txt` tel que \n",
    "- la première ligne du fichier indique le nombre de mots dans le vocabulaire et la dimension des embeddings\n",
    "- chacune des lignes suivantes est composée d'un mot_étiquette grammaticale suivi des 300 coordonnées de son *embedding*, le tout séparé par des espaces. \n",
    "\n",
    "Ainsi, les premières lignes de ce fichier sont :\n",
    "```\n",
    "296630 300\n",
    "also_ADV -0.010121 -0.045202 -0.065609 ... -0.065423\n",
    "one_NUM -0.060427 0.005032 -0.076370 ... -0.107769\n",
    "first_ADJ 0.005799 0.024848 0.018902 ...  -0.097193\n",
    "...\n",
    "```\n",
    "\n",
    "Les étiquettes `_ADV`, `_NUM`, `_ADJ`, etc. indiquent l'étiquette grammaticale du mot et peuvent être supprimées pour ce TP.\n",
    "\n",
    "*Note :* vous pouvez utiliser le snippet suivant pour télécharger et dézipper automatiquement les embeddings (pratique si vous utilisez une machine distante comme Google Colab) :\n",
    "```python\n",
    "import requests\n",
    "import io\n",
    "from zipfile import ZipFile\n",
    "\n",
    "res = requests.get(\"http://link/to/archive.zip\")\n",
    "with ZipFile(io.BytesIO(res.content)) as z:\n",
    "  z.extractall(\"extract/to/dir/\")\n",
    "```\n",
    "\n",
    "\n",
    "Implémentez un modèle bi-LSTM qui utilisent ces *embeddings* pour représenter les mots d'une phrase. Vous pourrez utiliser le layer [Embedding](https://keras.io/layers/embeddings/) de Keras."
   ]
  },
  {
   "cell_type": "markdown",
   "metadata": {},
   "source": [
    "Pour utiliser le modèle skip-gram, nous nous sommes basés sur le code suivant : https://blog.keras.io/using-pre-trained-word-embeddings-in-a-keras-model.html"
   ]
  },
  {
   "cell_type": "code",
   "execution_count": null,
   "metadata": {},
   "outputs": [],
   "source": [
    "dico_embed = dict()\n",
    "with open(\"embeddings/model.txt\",\"r\",encoding=\"utf-8\") as f:\n",
    "    firstline = f.readline()\n",
    "    for line in f:\n",
    "        values = line.split()\n",
    "        word = values[0].split(\"_\")[0]\n",
    "        coefs = np.asarray(values[1:], dtype = \"float32\")\n",
    "        dico_embed[word] = coefs\n",
    "\n",
    "temp = firstline.split()\n",
    "nb_mots_embed = int(temp[0])\n",
    "dim_embed = int(temp[1])"
   ]
  },
  {
   "cell_type": "code",
   "execution_count": 174,
   "metadata": {},
   "outputs": [],
   "source": [
    "mat_embed = np.zeros((len(word_index)+1,dim_embed))\n",
    "for word,i in word_index.items():\n",
    "    temp = dico_embed.get(word)\n",
    "    if temp is not None:\n",
    "        mat_embed[i] = temp\n"
   ]
  },
  {
   "cell_type": "code",
   "execution_count": 175,
   "metadata": {},
   "outputs": [
    {
     "name": "stdout",
     "output_type": "stream",
     "text": [
      "_________________________________________________________________\n",
      "Layer (type)                 Output Shape              Param #   \n",
      "=================================================================\n",
      "embedding_21 (Embedding)     (None, 400, 32)           160000    \n",
      "_________________________________________________________________\n",
      "bidirectional_6 (Bidirection (None, 64)                16640     \n",
      "_________________________________________________________________\n",
      "dense_25 (Dense)             (None, 2)                 130       \n",
      "=================================================================\n",
      "Total params: 176,770\n",
      "Trainable params: 176,770\n",
      "Non-trainable params: 0\n",
      "_________________________________________________________________\n",
      "None\n"
     ]
    }
   ],
   "source": [
    "lstm_model_embed = Sequential([\n",
    "    Embedding(len(word_index)+1, dim_embed, input_length=400, weights=[mat_embed], trainable= False),\n",
    "    Bidirectional(LSTM(32,input_shape=(max_phrase_len,32),dropout = 0.3, recurrent_dropout = 0.3)), \n",
    "    Dense(2, activation=\"sigmoid\")])\n",
    "\n",
    "lstm_model_embed.compile(\n",
    "        optimizer=\"adam\",\n",
    "        loss=\"binary_crossentropy\",\n",
    "        metrics=[\"accuracy\"]\n",
    "        )\n",
    "\n",
    "print(lstm_model.summary())"
   ]
  },
  {
   "cell_type": "code",
   "execution_count": 176,
   "metadata": {},
   "outputs": [
    {
     "name": "stdout",
     "output_type": "stream",
     "text": [
      "Train on 22423 samples, validate on 2492 samples\n",
      "Epoch 1/16\n",
      "22423/22423 [==============================] - 108s 5ms/step - loss: 0.6582 - acc: 0.6032 - val_loss: 0.6881 - val_acc: 0.6846\n",
      "Epoch 2/16\n",
      "22423/22423 [==============================] - 105s 5ms/step - loss: 0.5771 - acc: 0.7081 - val_loss: 0.7880 - val_acc: 0.6134\n",
      "Epoch 3/16\n",
      "22423/22423 [==============================] - 105s 5ms/step - loss: 0.5537 - acc: 0.7263 - val_loss: 0.5740 - val_acc: 0.7281\n",
      "Epoch 4/16\n",
      "22423/22423 [==============================] - 105s 5ms/step - loss: 0.5356 - acc: 0.7388 - val_loss: 0.5832 - val_acc: 0.7047\n",
      "Epoch 5/16\n",
      "22423/22423 [==============================] - 105s 5ms/step - loss: 0.5170 - acc: 0.7540 - val_loss: 0.6240 - val_acc: 0.6720\n",
      "Epoch 6/16\n",
      "22423/22423 [==============================] - 105s 5ms/step - loss: 0.5516 - acc: 0.7291 - val_loss: 0.4843 - val_acc: 0.7602\n",
      "Epoch 7/16\n",
      "22423/22423 [==============================] - 105s 5ms/step - loss: 0.5082 - acc: 0.7564 - val_loss: 0.5010 - val_acc: 0.7528\n",
      "Epoch 8/16\n",
      "22423/22423 [==============================] - 105s 5ms/step - loss: 0.5255 - acc: 0.7436 - val_loss: 0.4763 - val_acc: 0.7542\n",
      "Epoch 9/16\n",
      "22423/22423 [==============================] - 105s 5ms/step - loss: 0.5003 - acc: 0.7608 - val_loss: 0.5180 - val_acc: 0.7408\n"
     ]
    }
   ],
   "source": [
    "es = EarlyStopping(monitor='val_acc', mode='max',patience=3)\n",
    "\n",
    "h_embed = lstm_model_embed.fit(\n",
    "    X_train,\n",
    "    y,\n",
    "    validation_split = 0.1,\n",
    "    epochs = 16,\n",
    "    batch_size = 256,\n",
    "    callbacks=[es]\n",
    ")"
   ]
  },
  {
   "cell_type": "code",
   "execution_count": 179,
   "metadata": {},
   "outputs": [
    {
     "data": {
      "image/png": "[encoded data removed]",
      "text/plain": [
       "<Figure size 432x288 with 1 Axes>"
      ]
     },
     "metadata": {},
     "output_type": "display_data"
    }
   ],
   "source": [
    "plt.clf()\n",
    "loss = h_embed.history['loss']\n",
    "val_loss = h_embed.history['val_loss']\n",
    "epochs = range(1, len(loss) + 1)\n",
    "plt.plot(epochs, loss, 'g', label='Training loss')\n",
    "plt.plot(epochs, val_loss, 'y', label='Validation loss')\n",
    "plt.title('Training and validation loss')\n",
    "plt.xlabel('Epochs')\n",
    "plt.ylabel('Loss')\n",
    "plt.legend()\n",
    "plt.show()"
   ]
  },
  {
   "cell_type": "code",
   "execution_count": 180,
   "metadata": {},
   "outputs": [
    {
     "data": {
      "image/png": "[encoded data removed]",
      "text/plain": [
       "<Figure size 432x288 with 1 Axes>"
      ]
     },
     "metadata": {},
     "output_type": "display_data"
    }
   ],
   "source": [
    "plt.clf()\n",
    "acc = h_embed.history['acc']\n",
    "val_acc = h_embed.history['val_acc']\n",
    "plt.plot(epochs, acc, 'g', label='Training acc')\n",
    "plt.plot(epochs, val_acc, 'y', label='Validation acc')\n",
    "plt.title('Training and validation accuracy')\n",
    "plt.xlabel('Epochs')\n",
    "plt.ylabel('Accuracy')\n",
    "plt.legend()\n",
    "plt.show()"
   ]
  },
  {
   "cell_type": "markdown",
   "metadata": {},
   "source": [
    "### 5. Évaluation"
   ]
  },
  {
   "cell_type": "markdown",
   "metadata": {},
   "source": [
    "**d)** Indiquez les performances de chacun de vos modèles. Comparez avec les modèles Naive Bayes et character-LM du TP précédent et commentez.\n",
    "\n",
    "Quel est votre meilleur modèle ?"
   ]
  },
  {
   "cell_type": "code",
   "execution_count": 197,
   "metadata": {},
   "outputs": [
    {
     "name": "stdout",
     "output_type": "stream",
     "text": [
      "21660\n",
      "21660\n",
      "21660\n",
      "21660\n"
     ]
    }
   ],
   "source": [
    "X_test_perceptron = vectorizer.transform(data_test)\n",
    "y_test_perceptron = [1 for i in range(len(data_test_pos))] + [0 for i in range(len(data_test_neg))]\n",
    "\n",
    "X_test_lstm = clean_doc_lstm(data_test)\n",
    "tokenizer.fit_on_texts(X_test_lstm)\n",
    "X_test_lstm = tokenizer.texts_to_sequences(X_test_lstm)\n",
    "X_test_lstm = pad_sequences(X_test_lstm, maxlen = 400)\n",
    "y_test_lstm = to_categorical(y_test_perceptron)"
   ]
  },
  {
   "cell_type": "code",
   "execution_count": 156,
   "metadata": {},
   "outputs": [
    {
     "name": "stdout",
     "output_type": "stream",
     "text": [
      "Accuracy: 0.8837950138504155\n"
     ]
    }
   ],
   "source": [
    "from sklearn.linear_model import LogisticRegression\n",
    "\n",
    "classifier = LogisticRegression()\n",
    "classifier.fit(X, y_train)\n",
    "score = classifier.score(X_test_perceptron, y_test_perceptron)\n",
    "\n",
    "print(\"Accuracy:\", score)"
   ]
  },
  {
   "cell_type": "code",
   "execution_count": 198,
   "metadata": {},
   "outputs": [
    {
     "name": "stdout",
     "output_type": "stream",
     "text": [
      "21660/21660 [==============================] - 1s 66us/step\n",
      "21660/21660 [==============================] - 376s 17ms/step\n",
      "21660/21660 [==============================] - 375s 17ms/step\n"
     ]
    }
   ],
   "source": [
    "results_perceptron = model.evaluate(X_test_perceptron,y_test)\n",
    "\n",
    "results_lstm = lstm_model.evaluate(X_test_lstm,y_test_lstm)\n",
    "\n",
    "results_lstm_embed = lstm_model_embed.evaluate(X_test_lstm,y_test_lstm)"
   ]
  },
  {
   "cell_type": "code",
   "execution_count": 199,
   "metadata": {},
   "outputs": [
    {
     "name": "stdout",
     "output_type": "stream",
     "text": [
      "PERCEPTRON :       loss =  0.4959302401003305 , accuracy =  0.8531855955348451\n",
      "BI-LSTM :          loss =  1.2700328925529896 , accuracy =  0.4991228070010329\n",
      "BI-LSTM EMBEDDED : loss =  0.8152772817475203 , accuracy =  0.5062788550323176\n"
     ]
    }
   ],
   "source": [
    "print(\"PERCEPTRON :       loss = \",results_perceptron[0],\", accuracy = \",results_perceptron[1])\n",
    "print(\"BI-LSTM :          loss = \",results_lstm[0],\", accuracy = \",results_lstm[1])\n",
    "print(\"BI-LSTM EMBEDDED : loss = \",results_lstm_embed[0],\", accuracy = \",results_lstm_embed[1])"
   ]
  },
  {
   "cell_type": "markdown",
   "metadata": {},
   "source": [
    "Pour rappel, l'accuracy du modèle n-gram est de 0.82 sur les mêmes données.\n",
    "Les modèles les plus simples (perceptron et régression logistique) obtiennent les meilleurs scores, ce qui est plutôt surprenant.\n",
    "\n",
    "\n",
    "On peut imputer les basses performances des modèles sophistiqués au fait que nous n'avons pas exploré l'ensemble des hypers-paramètres, et au fait que les modèles ont clairement overfittés. On aurait utiliser une couche Drop-Out pour limiter cet overfitting.\n",
    "On aurait pu plus particulièrement augmenter le nombre de couches dans les modèles LSTM."
   ]
  }
 ],
 "metadata": {
  "kernelspec": {
   "display_name": "Python 3",
   "language": "python",
   "name": "python3"
  },
  "language_info": {
   "codemirror_mode": {
    "name": "ipython",
    "version": 3
   },
   "file_extension": ".py",
   "mimetype": "text/x-python",
   "name": "python",
   "nbconvert_exporter": "python",
   "pygments_lexer": "ipython3",
   "version": "3.7.3"
  }
 },
 "nbformat": 4,
 "nbformat_minor": 4
}
